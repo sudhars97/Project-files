# %%
import pandas as pd
import numpy as np
import matplotlib.pyplot as plt
import seaborn as sns
import os
from sklearn.feature_extraction.text import TfidfVectorizer
from sklearn.cluster import KMeans
from sklearn.decomposition import PCA
from wordcloud import WordCloud

# Optional for better plots
sns.set(style='whitegrid')


# %%
file_path = r"C:\Users\Sudharshan.A\Downloads\drugs_side_effects_drugs_com.csv"
df = pd.read_csv(file_path)
df.columns = df.columns.str.strip()

# Keep only necessary columns
df = df[['drug_name', 'medical_condition', 'side_effects', 'rating', 'no_of_reviews', 'rx_otc']].copy()

# Drop rows with missing values in key columns
df.dropna(subset=['drug_name', 'medical_condition', 'side_effects'], inplace=True)
df.reset_index(drop=True, inplace=True)

df.head()

# %%
# 🛠️ Convert review counts to numeric
df['no_of_reviews'] = pd.to_numeric(df['no_of_reviews'], errors='coerce')

# Drop rows with missing or non-numeric reviews
df = df.dropna(subset=['no_of_reviews'])

# Group and plot
top_drugs = df.groupby('drug_name')['no_of_reviews'].sum().sort_values(ascending=False).head(10)

# 📊 Plot
plt.figure(figsize=(10, 6))
sns.barplot(x=top_drugs.values, y=top_drugs.index, palette='viridis')
plt.title('Top 10 Most Reviewed Drugs')
plt.xlabel('Number of Reviews')
plt.ylabel('Drug Name')
plt.show()


# %%
# 🔡 Vectorize Side Effects
tfidf = TfidfVectorizer(stop_words='english', max_features=1000)
X = tfidf.fit_transform(df['side_effects'])

print(f"TF-IDF matrix shape: {X.shape}")


# %%
# 🔍 Clustering Drugs by Side Effects
kmeans = KMeans(n_clusters=5, random_state=42)
clusters = kmeans.fit_predict(X)

os.environ["LOKY_MAX_CPU_COUNT"] = "4"  # or however many CPU cores your system has

df['cluster'] = clusters
df[['drug_name', 'medical_condition', 'cluster']].head()


# %%
# 📉 Visualize Clusters with PCA
pca = PCA(n_components=2)
X_pca = pca.fit_transform(X.toarray())

plt.figure(figsize=(10, 6))
sns.scatterplot(x=X_pca[:, 0], y=X_pca[:, 1], hue=df['cluster'], palette='tab10')
plt.title("Drug Clusters Based on Side Effects (PCA Reduced)")
plt.xlabel('PC 1')
plt.ylabel('PC 2')
plt.legend(title='Cluster')
plt.show()


# %%
# 🛠️ Ensure rating is numeric
df['rating'] = pd.to_numeric(df['rating'], errors='coerce')

# Drop rows with missing ratings (if any)
df = df.dropna(subset=['rating'])

# ⭐ Average Ratings per Cluster
cluster_ratings = df.groupby('cluster')['rating'].mean().sort_values()

# 📊 Plot
cluster_ratings.plot(kind='barh', color='teal', figsize=(8, 5))
plt.title("Average Drug Ratings by Side Effect Cluster")
plt.xlabel("Average Rating")
plt.ylabel("Cluster")
plt.show()


# %%
# 🔥 Heatmap of Aggregates per Cluster
agg = df.groupby('cluster').agg({
    'rating': 'mean',
    'no_of_reviews': 'mean',
    'drug_name': 'nunique'
}).rename(columns={'drug_name': 'unique_drugs'})

sns.heatmap(agg, annot=True, cmap='coolwarm', fmt=".1f")
plt.title('Cluster Summary: Rating, Reviews, Drug Count')
plt.show()
